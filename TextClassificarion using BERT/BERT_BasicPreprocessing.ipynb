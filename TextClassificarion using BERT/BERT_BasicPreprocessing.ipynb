{
  "nbformat": 4,
  "nbformat_minor": 0,
  "metadata": {
    "colab": {
      "provenance": []
    },
    "kernelspec": {
      "name": "python3",
      "display_name": "Python 3"
    },
    "language_info": {
      "name": "python"
    }
  },
  "cells": [
    {
      "cell_type": "code",
      "execution_count": null,
      "metadata": {
        "id": "R6340n5e9z9l",
        "colab": {
          "base_uri": "https://localhost:8080/"
        },
        "outputId": "28d305d9-380b-4b08-8032-c755a45508be"
      },
      "outputs": [
        {
          "output_type": "stream",
          "name": "stdout",
          "text": [
            "Requirement already satisfied: tensorflow_text in /usr/local/lib/python3.10/dist-packages (2.18.0)\n",
            "Requirement already satisfied: tensorflow<2.19,>=2.18.0 in /usr/local/lib/python3.10/dist-packages (from tensorflow_text) (2.18.0)\n",
            "Requirement already satisfied: absl-py>=1.0.0 in /usr/local/lib/python3.10/dist-packages (from tensorflow<2.19,>=2.18.0->tensorflow_text) (1.4.0)\n",
            "Requirement already satisfied: astunparse>=1.6.0 in /usr/local/lib/python3.10/dist-packages (from tensorflow<2.19,>=2.18.0->tensorflow_text) (1.6.3)\n",
            "Requirement already satisfied: flatbuffers>=24.3.25 in /usr/local/lib/python3.10/dist-packages (from tensorflow<2.19,>=2.18.0->tensorflow_text) (24.3.25)\n",
            "Requirement already satisfied: gast!=0.5.0,!=0.5.1,!=0.5.2,>=0.2.1 in /usr/local/lib/python3.10/dist-packages (from tensorflow<2.19,>=2.18.0->tensorflow_text) (0.6.0)\n",
            "Requirement already satisfied: google-pasta>=0.1.1 in /usr/local/lib/python3.10/dist-packages (from tensorflow<2.19,>=2.18.0->tensorflow_text) (0.2.0)\n",
            "Requirement already satisfied: libclang>=13.0.0 in /usr/local/lib/python3.10/dist-packages (from tensorflow<2.19,>=2.18.0->tensorflow_text) (18.1.1)\n",
            "Requirement already satisfied: opt-einsum>=2.3.2 in /usr/local/lib/python3.10/dist-packages (from tensorflow<2.19,>=2.18.0->tensorflow_text) (3.4.0)\n",
            "Requirement already satisfied: packaging in /usr/local/lib/python3.10/dist-packages (from tensorflow<2.19,>=2.18.0->tensorflow_text) (24.2)\n",
            "Requirement already satisfied: protobuf!=4.21.0,!=4.21.1,!=4.21.2,!=4.21.3,!=4.21.4,!=4.21.5,<6.0.0dev,>=3.20.3 in /usr/local/lib/python3.10/dist-packages (from tensorflow<2.19,>=2.18.0->tensorflow_text) (4.25.5)\n",
            "Requirement already satisfied: requests<3,>=2.21.0 in /usr/local/lib/python3.10/dist-packages (from tensorflow<2.19,>=2.18.0->tensorflow_text) (2.32.3)\n",
            "Requirement already satisfied: setuptools in /usr/local/lib/python3.10/dist-packages (from tensorflow<2.19,>=2.18.0->tensorflow_text) (75.1.0)\n",
            "Requirement already satisfied: six>=1.12.0 in /usr/local/lib/python3.10/dist-packages (from tensorflow<2.19,>=2.18.0->tensorflow_text) (1.16.0)\n",
            "Requirement already satisfied: termcolor>=1.1.0 in /usr/local/lib/python3.10/dist-packages (from tensorflow<2.19,>=2.18.0->tensorflow_text) (2.5.0)\n",
            "Requirement already satisfied: typing-extensions>=3.6.6 in /usr/local/lib/python3.10/dist-packages (from tensorflow<2.19,>=2.18.0->tensorflow_text) (4.12.2)\n",
            "Requirement already satisfied: wrapt>=1.11.0 in /usr/local/lib/python3.10/dist-packages (from tensorflow<2.19,>=2.18.0->tensorflow_text) (1.16.0)\n",
            "Requirement already satisfied: grpcio<2.0,>=1.24.3 in /usr/local/lib/python3.10/dist-packages (from tensorflow<2.19,>=2.18.0->tensorflow_text) (1.67.1)\n",
            "Requirement already satisfied: tensorboard<2.19,>=2.18 in /usr/local/lib/python3.10/dist-packages (from tensorflow<2.19,>=2.18.0->tensorflow_text) (2.18.0)\n",
            "Requirement already satisfied: keras>=3.5.0 in /usr/local/lib/python3.10/dist-packages (from tensorflow<2.19,>=2.18.0->tensorflow_text) (3.5.0)\n",
            "Requirement already satisfied: numpy<2.1.0,>=1.26.0 in /usr/local/lib/python3.10/dist-packages (from tensorflow<2.19,>=2.18.0->tensorflow_text) (1.26.4)\n",
            "Requirement already satisfied: h5py>=3.11.0 in /usr/local/lib/python3.10/dist-packages (from tensorflow<2.19,>=2.18.0->tensorflow_text) (3.12.1)\n",
            "Requirement already satisfied: ml-dtypes<0.5.0,>=0.4.0 in /usr/local/lib/python3.10/dist-packages (from tensorflow<2.19,>=2.18.0->tensorflow_text) (0.4.1)\n",
            "Requirement already satisfied: tensorflow-io-gcs-filesystem>=0.23.1 in /usr/local/lib/python3.10/dist-packages (from tensorflow<2.19,>=2.18.0->tensorflow_text) (0.37.1)\n",
            "Requirement already satisfied: wheel<1.0,>=0.23.0 in /usr/local/lib/python3.10/dist-packages (from astunparse>=1.6.0->tensorflow<2.19,>=2.18.0->tensorflow_text) (0.45.0)\n",
            "Requirement already satisfied: rich in /usr/local/lib/python3.10/dist-packages (from keras>=3.5.0->tensorflow<2.19,>=2.18.0->tensorflow_text) (13.9.4)\n",
            "Requirement already satisfied: namex in /usr/local/lib/python3.10/dist-packages (from keras>=3.5.0->tensorflow<2.19,>=2.18.0->tensorflow_text) (0.0.8)\n",
            "Requirement already satisfied: optree in /usr/local/lib/python3.10/dist-packages (from keras>=3.5.0->tensorflow<2.19,>=2.18.0->tensorflow_text) (0.13.1)\n",
            "Requirement already satisfied: charset-normalizer<4,>=2 in /usr/local/lib/python3.10/dist-packages (from requests<3,>=2.21.0->tensorflow<2.19,>=2.18.0->tensorflow_text) (3.4.0)\n",
            "Requirement already satisfied: idna<4,>=2.5 in /usr/local/lib/python3.10/dist-packages (from requests<3,>=2.21.0->tensorflow<2.19,>=2.18.0->tensorflow_text) (3.10)\n",
            "Requirement already satisfied: urllib3<3,>=1.21.1 in /usr/local/lib/python3.10/dist-packages (from requests<3,>=2.21.0->tensorflow<2.19,>=2.18.0->tensorflow_text) (2.2.3)\n",
            "Requirement already satisfied: certifi>=2017.4.17 in /usr/local/lib/python3.10/dist-packages (from requests<3,>=2.21.0->tensorflow<2.19,>=2.18.0->tensorflow_text) (2024.8.30)\n",
            "Requirement already satisfied: markdown>=2.6.8 in /usr/local/lib/python3.10/dist-packages (from tensorboard<2.19,>=2.18->tensorflow<2.19,>=2.18.0->tensorflow_text) (3.7)\n",
            "Requirement already satisfied: tensorboard-data-server<0.8.0,>=0.7.0 in /usr/local/lib/python3.10/dist-packages (from tensorboard<2.19,>=2.18->tensorflow<2.19,>=2.18.0->tensorflow_text) (0.7.2)\n",
            "Requirement already satisfied: werkzeug>=1.0.1 in /usr/local/lib/python3.10/dist-packages (from tensorboard<2.19,>=2.18->tensorflow<2.19,>=2.18.0->tensorflow_text) (3.1.3)\n",
            "Requirement already satisfied: MarkupSafe>=2.1.1 in /usr/local/lib/python3.10/dist-packages (from werkzeug>=1.0.1->tensorboard<2.19,>=2.18->tensorflow<2.19,>=2.18.0->tensorflow_text) (3.0.2)\n",
            "Requirement already satisfied: markdown-it-py>=2.2.0 in /usr/local/lib/python3.10/dist-packages (from rich->keras>=3.5.0->tensorflow<2.19,>=2.18.0->tensorflow_text) (3.0.0)\n",
            "Requirement already satisfied: pygments<3.0.0,>=2.13.0 in /usr/local/lib/python3.10/dist-packages (from rich->keras>=3.5.0->tensorflow<2.19,>=2.18.0->tensorflow_text) (2.18.0)\n",
            "Requirement already satisfied: mdurl~=0.1 in /usr/local/lib/python3.10/dist-packages (from markdown-it-py>=2.2.0->rich->keras>=3.5.0->tensorflow<2.19,>=2.18.0->tensorflow_text) (0.1.2)\n"
          ]
        }
      ],
      "source": [
        "!pip install tensorflow_text\n",
        "import tensorflow_text as text  # Registers the ops.\n",
        "import tensorflow_hub as hub"
      ]
    },
    {
      "cell_type": "code",
      "source": [
        "preprocess_url = \"https://tfhub.dev/tensorflow/bert_en_uncased_preprocess/3\"\n",
        "encoder_url =  \"https://www.kaggle.com/models/tensorflow/bert/TensorFlow2/bert-en-uncased-l-10-h-128-a-2/2\"\n"
      ],
      "metadata": {
        "id": "pxHXxn0bskj7"
      },
      "execution_count": null,
      "outputs": []
    },
    {
      "cell_type": "code",
      "source": [
        "bert_preprocess_model = hub.KerasLayer(preprocess_url)"
      ],
      "metadata": {
        "id": "kk0N8vsKuZ9C"
      },
      "execution_count": null,
      "outputs": []
    },
    {
      "cell_type": "code",
      "source": [
        "text_test = ['nice movie indeed','I love python programming']\n",
        "text_preprocessed = bert_preprocess_model(text_test)\n",
        "text_preprocessed.keys()"
      ],
      "metadata": {
        "colab": {
          "base_uri": "https://localhost:8080/"
        },
        "id": "VSTtxMoluiWP",
        "outputId": "67e93d51-415d-4208-e534-b2e30293c403"
      },
      "execution_count": null,
      "outputs": [
        {
          "output_type": "execute_result",
          "data": {
            "text/plain": [
              "dict_keys(['input_type_ids', 'input_mask', 'input_word_ids'])"
            ]
          },
          "metadata": {},
          "execution_count": 5
        }
      ]
    },
    {
      "cell_type": "code",
      "source": [
        "text_preprocessed['input_mask']\n",
        "# CLS nice movie indeed SEP 3+2=5\n",
        "# cls I love python programming sep 4+2=6\n",
        "# 2 sentences used so shape haas two\n",
        "# spatial token cls\n",
        "#128 maximum length of the sentence"
      ],
      "metadata": {
        "colab": {
          "base_uri": "https://localhost:8080/"
        },
        "id": "9MDHMhWbu0qg",
        "outputId": "c83d89b2-d308-4a55-f959-c33695aca9c4"
      },
      "execution_count": null,
      "outputs": [
        {
          "output_type": "execute_result",
          "data": {
            "text/plain": [
              "<tf.Tensor: shape=(2, 128), dtype=int32, numpy=\n",
              "array([[1, 1, 1, 1, 1, 0, 0, 0, 0, 0, 0, 0, 0, 0, 0, 0, 0, 0, 0, 0, 0, 0,\n",
              "        0, 0, 0, 0, 0, 0, 0, 0, 0, 0, 0, 0, 0, 0, 0, 0, 0, 0, 0, 0, 0, 0,\n",
              "        0, 0, 0, 0, 0, 0, 0, 0, 0, 0, 0, 0, 0, 0, 0, 0, 0, 0, 0, 0, 0, 0,\n",
              "        0, 0, 0, 0, 0, 0, 0, 0, 0, 0, 0, 0, 0, 0, 0, 0, 0, 0, 0, 0, 0, 0,\n",
              "        0, 0, 0, 0, 0, 0, 0, 0, 0, 0, 0, 0, 0, 0, 0, 0, 0, 0, 0, 0, 0, 0,\n",
              "        0, 0, 0, 0, 0, 0, 0, 0, 0, 0, 0, 0, 0, 0, 0, 0, 0, 0],\n",
              "       [1, 1, 1, 1, 1, 1, 0, 0, 0, 0, 0, 0, 0, 0, 0, 0, 0, 0, 0, 0, 0, 0,\n",
              "        0, 0, 0, 0, 0, 0, 0, 0, 0, 0, 0, 0, 0, 0, 0, 0, 0, 0, 0, 0, 0, 0,\n",
              "        0, 0, 0, 0, 0, 0, 0, 0, 0, 0, 0, 0, 0, 0, 0, 0, 0, 0, 0, 0, 0, 0,\n",
              "        0, 0, 0, 0, 0, 0, 0, 0, 0, 0, 0, 0, 0, 0, 0, 0, 0, 0, 0, 0, 0, 0,\n",
              "        0, 0, 0, 0, 0, 0, 0, 0, 0, 0, 0, 0, 0, 0, 0, 0, 0, 0, 0, 0, 0, 0,\n",
              "        0, 0, 0, 0, 0, 0, 0, 0, 0, 0, 0, 0, 0, 0, 0, 0, 0, 0]],\n",
              "      dtype=int32)>"
            ]
          },
          "metadata": {},
          "execution_count": 19
        }
      ]
    },
    {
      "cell_type": "code",
      "source": [
        "text_preprocessed['input_type_ids']"
      ],
      "metadata": {
        "colab": {
          "base_uri": "https://localhost:8080/"
        },
        "id": "KuxfHansvSiQ",
        "outputId": "c3eb42fd-049b-4745-c660-d7214b95982d"
      },
      "execution_count": null,
      "outputs": [
        {
          "output_type": "execute_result",
          "data": {
            "text/plain": [
              "<tf.Tensor: shape=(2, 128), dtype=int32, numpy=\n",
              "array([[0, 0, 0, 0, 0, 0, 0, 0, 0, 0, 0, 0, 0, 0, 0, 0, 0, 0, 0, 0, 0, 0,\n",
              "        0, 0, 0, 0, 0, 0, 0, 0, 0, 0, 0, 0, 0, 0, 0, 0, 0, 0, 0, 0, 0, 0,\n",
              "        0, 0, 0, 0, 0, 0, 0, 0, 0, 0, 0, 0, 0, 0, 0, 0, 0, 0, 0, 0, 0, 0,\n",
              "        0, 0, 0, 0, 0, 0, 0, 0, 0, 0, 0, 0, 0, 0, 0, 0, 0, 0, 0, 0, 0, 0,\n",
              "        0, 0, 0, 0, 0, 0, 0, 0, 0, 0, 0, 0, 0, 0, 0, 0, 0, 0, 0, 0, 0, 0,\n",
              "        0, 0, 0, 0, 0, 0, 0, 0, 0, 0, 0, 0, 0, 0, 0, 0, 0, 0],\n",
              "       [0, 0, 0, 0, 0, 0, 0, 0, 0, 0, 0, 0, 0, 0, 0, 0, 0, 0, 0, 0, 0, 0,\n",
              "        0, 0, 0, 0, 0, 0, 0, 0, 0, 0, 0, 0, 0, 0, 0, 0, 0, 0, 0, 0, 0, 0,\n",
              "        0, 0, 0, 0, 0, 0, 0, 0, 0, 0, 0, 0, 0, 0, 0, 0, 0, 0, 0, 0, 0, 0,\n",
              "        0, 0, 0, 0, 0, 0, 0, 0, 0, 0, 0, 0, 0, 0, 0, 0, 0, 0, 0, 0, 0, 0,\n",
              "        0, 0, 0, 0, 0, 0, 0, 0, 0, 0, 0, 0, 0, 0, 0, 0, 0, 0, 0, 0, 0, 0,\n",
              "        0, 0, 0, 0, 0, 0, 0, 0, 0, 0, 0, 0, 0, 0, 0, 0, 0, 0]],\n",
              "      dtype=int32)>"
            ]
          },
          "metadata": {},
          "execution_count": 7
        }
      ]
    },
    {
      "cell_type": "code",
      "source": [
        "text_preprocessed['input_word_ids']"
      ],
      "metadata": {
        "colab": {
          "base_uri": "https://localhost:8080/"
        },
        "id": "BAY1RMd1vSsk",
        "outputId": "372597fe-c37a-4116-95ef-91326105a641"
      },
      "execution_count": null,
      "outputs": [
        {
          "output_type": "execute_result",
          "data": {
            "text/plain": [
              "<tf.Tensor: shape=(2, 128), dtype=int32, numpy=\n",
              "array([[  101,  3835,  3185,  5262,   102,     0,     0,     0,     0,\n",
              "            0,     0,     0,     0,     0,     0,     0,     0,     0,\n",
              "            0,     0,     0,     0,     0,     0,     0,     0,     0,\n",
              "            0,     0,     0,     0,     0,     0,     0,     0,     0,\n",
              "            0,     0,     0,     0,     0,     0,     0,     0,     0,\n",
              "            0,     0,     0,     0,     0,     0,     0,     0,     0,\n",
              "            0,     0,     0,     0,     0,     0,     0,     0,     0,\n",
              "            0,     0,     0,     0,     0,     0,     0,     0,     0,\n",
              "            0,     0,     0,     0,     0,     0,     0,     0,     0,\n",
              "            0,     0,     0,     0,     0,     0,     0,     0,     0,\n",
              "            0,     0,     0,     0,     0,     0,     0,     0,     0,\n",
              "            0,     0,     0,     0,     0,     0,     0,     0,     0,\n",
              "            0,     0,     0,     0,     0,     0,     0,     0,     0,\n",
              "            0,     0,     0,     0,     0,     0,     0,     0,     0,\n",
              "            0,     0],\n",
              "       [  101,  1045,  2293, 18750,  4730,   102,     0,     0,     0,\n",
              "            0,     0,     0,     0,     0,     0,     0,     0,     0,\n",
              "            0,     0,     0,     0,     0,     0,     0,     0,     0,\n",
              "            0,     0,     0,     0,     0,     0,     0,     0,     0,\n",
              "            0,     0,     0,     0,     0,     0,     0,     0,     0,\n",
              "            0,     0,     0,     0,     0,     0,     0,     0,     0,\n",
              "            0,     0,     0,     0,     0,     0,     0,     0,     0,\n",
              "            0,     0,     0,     0,     0,     0,     0,     0,     0,\n",
              "            0,     0,     0,     0,     0,     0,     0,     0,     0,\n",
              "            0,     0,     0,     0,     0,     0,     0,     0,     0,\n",
              "            0,     0,     0,     0,     0,     0,     0,     0,     0,\n",
              "            0,     0,     0,     0,     0,     0,     0,     0,     0,\n",
              "            0,     0,     0,     0,     0,     0,     0,     0,     0,\n",
              "            0,     0,     0,     0,     0,     0,     0,     0,     0,\n",
              "            0,     0]], dtype=int32)>"
            ]
          },
          "metadata": {},
          "execution_count": 8
        }
      ]
    },
    {
      "cell_type": "code",
      "source": [
        "bert_model = hub.KerasLayer(encoder_url)\n",
        "\n",
        "bert_results = bert_model(text_preprocessed)\n",
        "bert_results.keys()"
      ],
      "metadata": {
        "colab": {
          "base_uri": "https://localhost:8080/"
        },
        "id": "YITPhgWOwm-r",
        "outputId": "7e621b5c-ab5f-45a9-e6c6-38a2958fa1c7"
      },
      "execution_count": null,
      "outputs": [
        {
          "output_type": "execute_result",
          "data": {
            "text/plain": [
              "dict_keys(['pooled_output', 'sequence_output', 'encoder_outputs', 'default'])"
            ]
          },
          "metadata": {},
          "execution_count": 10
        }
      ]
    },
    {
      "cell_type": "code",
      "source": [
        "bert_results['pooled_output']\n",
        "# has the embedding for the entire sentence"
      ],
      "metadata": {
        "colab": {
          "base_uri": "https://localhost:8080/"
        },
        "id": "mW08qzeVxDTk",
        "outputId": "1f60220c-6f47-4853-c341-c40bb21f975d"
      },
      "execution_count": null,
      "outputs": [
        {
          "output_type": "execute_result",
          "data": {
            "text/plain": [
              "<tf.Tensor: shape=(2, 128), dtype=float32, numpy=\n",
              "array([[-9.61583436e-01,  9.82990801e-01,  6.71520680e-02,\n",
              "        -9.77145851e-01, -9.96612847e-01,  4.21944037e-02,\n",
              "        -7.20781744e-01,  6.94600865e-02,  6.30466163e-01,\n",
              "        -8.44422698e-01, -9.30527329e-01,  5.36174357e-01,\n",
              "         8.93691242e-01,  9.97095942e-01,  7.85159171e-02,\n",
              "         8.94847691e-01, -9.99662936e-01,  6.46769106e-01,\n",
              "        -7.32644975e-01,  9.57778513e-01, -9.80164707e-01,\n",
              "        -8.61537874e-01, -7.56168365e-01,  9.29833889e-01,\n",
              "        -9.41975057e-01,  9.18909550e-01, -2.68500805e-01,\n",
              "        -9.99269664e-01,  1.17457666e-01, -8.98820162e-01,\n",
              "         9.89692032e-01,  9.61469352e-01,  9.82462049e-01,\n",
              "         9.33466434e-01,  8.38703573e-01, -3.61137576e-02,\n",
              "        -9.61118698e-01,  1.01809995e-02,  5.61180174e-01,\n",
              "         3.78839612e-01, -9.94660020e-01, -8.68889213e-01,\n",
              "         1.10555649e-01,  9.99908090e-01, -1.88111380e-01,\n",
              "        -1.88300222e-01, -2.27432787e-01, -8.82381916e-01,\n",
              "         9.76414561e-01,  9.99302208e-01, -2.85161257e-01,\n",
              "        -8.85916173e-01,  1.92312166e-01,  6.77957475e-01,\n",
              "         3.35616358e-02, -8.12915802e-01,  1.83975011e-01,\n",
              "         3.20066437e-02, -8.58979404e-01,  9.76898193e-01,\n",
              "        -9.98683333e-01, -5.81674099e-01,  5.81552982e-01,\n",
              "        -4.99231629e-02, -8.35291386e-01,  9.97506201e-01,\n",
              "         3.44599299e-02, -9.22366083e-01, -5.51890465e-04,\n",
              "        -8.58245254e-01, -9.98203158e-01,  7.88791925e-02,\n",
              "        -7.56360352e-01,  1.91932102e-03,  9.99752223e-01,\n",
              "        -5.15031040e-01,  4.14854363e-02, -6.05720766e-02,\n",
              "         9.52537298e-01,  1.41091570e-01,  1.00067705e-02,\n",
              "         9.98775423e-01, -9.56732154e-01,  9.55396891e-01,\n",
              "         7.09951758e-01,  8.99509013e-01,  2.99156979e-02,\n",
              "         2.29252912e-02, -9.70877945e-01, -1.59708217e-01,\n",
              "         9.53843474e-01,  8.52992296e-01, -9.27973330e-01,\n",
              "         9.07392263e-01, -5.62512219e-01, -8.07555258e-01,\n",
              "         5.72897971e-01,  9.21838641e-01, -8.15266371e-02,\n",
              "         4.77076620e-02,  1.86538666e-01, -9.71178889e-01,\n",
              "        -9.29245770e-01, -8.85698557e-01,  9.84842420e-01,\n",
              "         9.80754912e-01,  3.36829156e-01, -8.38373899e-01,\n",
              "        -5.48395514e-01, -9.28341508e-01,  9.99453247e-01,\n",
              "        -3.36627901e-01,  8.39870572e-01,  9.88217413e-01,\n",
              "        -9.84666049e-01, -9.73674417e-01, -6.00755453e-01,\n",
              "         4.57791299e-01, -2.93841451e-01, -9.50930059e-01,\n",
              "         1.24632083e-01, -9.95446742e-01, -9.02923763e-01,\n",
              "         3.69310677e-02, -4.70977724e-01,  9.98495817e-01,\n",
              "        -5.03255844e-01,  5.10769896e-02],\n",
              "       [-8.04073036e-01,  9.90769386e-01,  3.53648551e-02,\n",
              "        -9.14522171e-01, -9.87278759e-01,  3.07293832e-01,\n",
              "        -5.13170958e-01,  1.02655426e-01,  9.76709187e-01,\n",
              "        -4.45094436e-01, -9.55273271e-01,  6.14130139e-01,\n",
              "         9.56513703e-01,  9.60232854e-01, -6.47526681e-02,\n",
              "         8.77278805e-01, -9.98603582e-01, -4.74239558e-01,\n",
              "        -8.72795880e-01,  9.78545845e-01, -9.31409001e-01,\n",
              "        -7.57344306e-01, -7.76212394e-01,  9.65374887e-01,\n",
              "        -9.70437944e-01,  8.98523629e-01, -1.86477259e-01,\n",
              "        -9.96744156e-01, -7.28569865e-01, -9.73153234e-01,\n",
              "         9.75300431e-01,  9.87888277e-01,  9.88917530e-01,\n",
              "         8.98947358e-01,  7.04684436e-01,  1.65922921e-02,\n",
              "        -9.79354858e-01, -7.93521166e-01,  3.64658803e-01,\n",
              "         2.82847196e-01, -9.10628557e-01, -8.96304369e-01,\n",
              "         8.86940062e-02,  9.99371886e-01, -7.99137592e-01,\n",
              "        -8.81705761e-01, -4.93498772e-01, -8.33582580e-01,\n",
              "         9.40448523e-01,  9.93273020e-01, -5.57348788e-01,\n",
              "        -9.93993044e-01,  1.16041318e-01, -3.89228076e-01,\n",
              "        -9.90897715e-02, -8.92621875e-01,  1.71366632e-01,\n",
              "         8.16227272e-02, -9.58528996e-01,  8.92956853e-01,\n",
              "        -9.98861551e-01, -8.00628543e-01,  4.06371839e-02,\n",
              "        -5.32987677e-02, -9.12404001e-01,  9.92454886e-01,\n",
              "         2.68116239e-02, -9.95910704e-01, -1.43082544e-01,\n",
              "        -7.03969896e-01, -9.83511925e-01,  9.42265987e-02,\n",
              "        -8.82951200e-01, -1.22419205e-02,  9.99159873e-01,\n",
              "        -2.28294253e-01,  5.15894257e-02, -1.67598546e-01,\n",
              "         8.39051664e-01,  1.70560122e-01,  4.94176358e-01,\n",
              "         9.91302013e-01, -9.45613921e-01,  8.83428395e-01,\n",
              "         7.16777146e-01,  9.11784291e-01,  1.05661824e-01,\n",
              "         2.90672742e-02, -7.50256777e-01, -1.72569960e-01,\n",
              "         9.51991618e-01,  9.77186918e-01, -9.12028611e-01,\n",
              "         4.03408229e-01, -8.69114697e-01, -6.46672964e-01,\n",
              "         3.99358809e-01,  9.12079453e-01, -1.28079847e-01,\n",
              "        -1.23825530e-02,  4.02061880e-01, -9.01134193e-01,\n",
              "        -9.90269303e-01, -9.90933955e-01,  9.87271428e-01,\n",
              "         9.96842265e-01,  9.17698085e-01, -8.41336071e-01,\n",
              "        -5.36296785e-01, -9.02621746e-01,  9.97242451e-01,\n",
              "        -8.51288736e-01,  8.25740159e-01,  9.12909329e-01,\n",
              "        -7.28057981e-01, -9.60862756e-01, -9.89209354e-01,\n",
              "        -4.02796865e-01, -5.99602163e-01, -8.37571263e-01,\n",
              "        -4.37680215e-01, -9.75260794e-01, -9.67087805e-01,\n",
              "         7.89156780e-02, -1.88271314e-01,  9.90743876e-01,\n",
              "        -7.38201201e-01,  2.59411111e-02]], dtype=float32)>"
            ]
          },
          "metadata": {},
          "execution_count": 20
        }
      ]
    },
    {
      "cell_type": "code",
      "source": [
        "bert_results['sequence_output']\n",
        "# each word has a embedding"
      ],
      "metadata": {
        "colab": {
          "base_uri": "https://localhost:8080/"
        },
        "id": "7M7OMHbpxfhF",
        "outputId": "7829d081-3350-4ee9-f36a-0b5bad18904f"
      },
      "execution_count": null,
      "outputs": [
        {
          "output_type": "execute_result",
          "data": {
            "text/plain": [
              "<tf.Tensor: shape=(2, 128, 128), dtype=float32, numpy=\n",
              "array([[[-2.5010061e-01,  6.2538946e-01,  1.6460221e+00, ...,\n",
              "          1.2799288e+00, -1.6682668e-01, -2.2829823e-01],\n",
              "        [-1.1235907e+00, -8.1793207e-01,  3.8127321e-01, ...,\n",
              "          1.5564997e+00,  1.2363948e+00, -2.7739465e-01],\n",
              "        [-1.3074750e+00, -2.6063615e-01,  1.5051280e+00, ...,\n",
              "          1.3184564e-01,  1.7667718e-01, -4.1672823e-01],\n",
              "        ...,\n",
              "        [-2.3766859e-01,  5.8498603e-01,  7.6011205e-01, ...,\n",
              "          1.8044731e-01,  7.6439792e-01,  2.4921894e-01],\n",
              "        [-2.9944208e-01,  5.3079379e-01,  8.3755362e-01, ...,\n",
              "         -4.1594442e-02,  5.0408024e-01,  3.6551052e-01],\n",
              "        [-3.2004949e-01,  6.1789536e-01,  3.0612543e-01, ...,\n",
              "          2.7973158e-02,  5.6527239e-01,  2.1248914e-01]],\n",
              "\n",
              "       [[ 8.2462144e-01,  8.3597130e-01,  8.6861706e-01, ...,\n",
              "          5.6793845e-01,  8.9088577e-01, -2.2193362e-01],\n",
              "        [-4.3414891e-02, -1.0212824e-02,  3.4325612e-01, ...,\n",
              "          7.5379980e-01,  5.2102560e-01,  7.1276939e-01],\n",
              "        [-1.1730777e+00,  5.9087425e-01,  4.4501299e-01, ...,\n",
              "          1.9331857e+00, -1.1777316e-01,  2.8396261e-01],\n",
              "        ...,\n",
              "        [ 1.0318278e-01,  3.0710077e-01,  4.9424642e-01, ...,\n",
              "         -6.8497159e-02,  1.0320106e+00,  8.5885316e-02],\n",
              "        [-1.6203535e-01,  3.6506754e-01,  6.5589166e-01, ...,\n",
              "         -2.3337874e-01,  7.7551740e-01,  2.8598422e-01],\n",
              "        [-2.0620227e-04,  2.7271071e-01,  5.9332207e-02, ...,\n",
              "         -4.9347627e-01,  3.3050385e-01,  3.8111454e-01]]], dtype=float32)>"
            ]
          },
          "metadata": {},
          "execution_count": 21
        }
      ]
    },
    {
      "cell_type": "code",
      "source": [
        "len(bert_results['encoder_outputs'])\n",
        "# reason is 10 layers of encoder inthe stack"
      ],
      "metadata": {
        "colab": {
          "base_uri": "https://localhost:8080/"
        },
        "id": "G_BrxtJyxftL",
        "outputId": "fae48324-08ab-4cfb-a31d-ed085166d585"
      },
      "execution_count": null,
      "outputs": [
        {
          "output_type": "execute_result",
          "data": {
            "text/plain": [
              "10"
            ]
          },
          "metadata": {},
          "execution_count": 22
        }
      ]
    },
    {
      "cell_type": "code",
      "source": [
        " bert_results['encoder_outputs']\n",
        "#  has the embedding for each encoders"
      ],
      "metadata": {
        "colab": {
          "base_uri": "https://localhost:8080/"
        },
        "id": "Nj8U_KzGzNPs",
        "outputId": "1a9dd5ce-b33d-412b-93d4-78f0a30bcd34"
      },
      "execution_count": null,
      "outputs": [
        {
          "output_type": "execute_result",
          "data": {
            "text/plain": [
              "[<tf.Tensor: shape=(2, 128, 128), dtype=float32, numpy=\n",
              " array([[[ 0.38996482,  0.5514192 ,  0.21972291, ..., -0.08233654,\n",
              "          -0.21757811,  0.3589819 ],\n",
              "         [-0.28004622, -2.0411665 , -0.97132045, ...,  0.41115627,\n",
              "           0.78592765,  0.667929  ],\n",
              "         [-0.14401902, -0.54543054,  0.2831009 , ..., -1.7191359 ,\n",
              "          -0.69747424,  0.35127097],\n",
              "         ...,\n",
              "         [ 1.9506999 ,  1.9278376 ,  1.3637809 , ..., -0.05854023,\n",
              "           0.05594981,  1.5992849 ],\n",
              "         [ 1.7430557 ,  1.9147065 ,  1.3637424 , ..., -0.6371481 ,\n",
              "          -0.6740017 ,  1.736562  ],\n",
              "         [ 1.36594   ,  1.9274958 ,  0.6786979 , ..., -1.1624889 ,\n",
              "          -1.3285384 ,  1.6973263 ]],\n",
              " \n",
              "        [[ 0.31130934,  0.52738786,  0.19879341, ..., -0.03409324,\n",
              "          -0.21684176,  0.35590625],\n",
              "         [ 0.82905704, -0.2761583 , -0.925563  , ...,  0.80140495,\n",
              "          -0.27236938,  0.90460366],\n",
              "         [ 0.21057871, -0.50038075, -0.10756762, ...,  1.2260262 ,\n",
              "          -2.4162629 ,  1.0626483 ],\n",
              "         ...,\n",
              "         [ 1.7890846 ,  1.8640648 ,  1.2574302 , ...,  0.15321672,\n",
              "          -0.0280841 ,  1.305578  ],\n",
              "         [ 1.5999081 ,  1.8675699 ,  1.2619469 , ..., -0.39463422,\n",
              "          -0.7656237 ,  1.4657141 ],\n",
              "         [ 1.2353398 ,  1.8967637 ,  0.58449996, ..., -0.88372433,\n",
              "          -1.43938   ,  1.4827405 ]]], dtype=float32)>,\n",
              " <tf.Tensor: shape=(2, 128, 128), dtype=float32, numpy=\n",
              " array([[[ 0.61243117,  0.80831057,  0.5955077 , ..., -0.02102216,\n",
              "          -0.27545387,  0.11460753],\n",
              "         [-0.05765707, -1.1855905 , -0.7559157 , ...,  0.24921042,\n",
              "           0.7868154 , -0.07159477],\n",
              "         [-0.15390486,  0.08922776,  0.5808763 , ..., -1.8291343 ,\n",
              "          -0.8975052 , -0.30949298],\n",
              "         ...,\n",
              "         [ 1.1700482 ,  1.9802257 ,  1.0149705 , ...,  0.03518312,\n",
              "          -0.20258449,  0.5972185 ],\n",
              "         [ 1.034578  ,  1.9762377 ,  1.0705218 , ..., -0.33857876,\n",
              "          -0.7219698 ,  0.71103853],\n",
              "         [ 0.87052155,  2.0328012 ,  0.6661807 , ..., -0.7134024 ,\n",
              "          -1.160865  ,  0.71349955]],\n",
              " \n",
              "        [[ 0.53266466,  0.62071747,  0.5820937 , ...,  0.05861394,\n",
              "          -0.2690283 , -0.01299074],\n",
              "         [ 0.5438154 ,  0.03649778, -0.8906168 , ...,  0.6937994 ,\n",
              "          -0.26392   ,  0.10836719],\n",
              "         [ 0.20373088,  0.12363981,  0.2623603 , ...,  0.93814707,\n",
              "          -2.459181  ,  0.7358828 ],\n",
              "         ...,\n",
              "         [ 0.9120867 ,  1.8996714 ,  0.9389194 , ...,  0.07982786,\n",
              "          -0.26116145,  0.46401677],\n",
              "         [ 0.7576779 ,  1.8661314 ,  0.9714166 , ..., -0.28049546,\n",
              "          -0.82539284,  0.5787792 ],\n",
              "         [ 0.5733    ,  1.9313339 ,  0.56849027, ..., -0.61445683,\n",
              "          -1.3066243 ,  0.6071919 ]]], dtype=float32)>,\n",
              " <tf.Tensor: shape=(2, 128, 128), dtype=float32, numpy=\n",
              " array([[[ 0.312228  ,  1.6419494 ,  0.84113085, ...,  0.4719581 ,\n",
              "          -0.2936813 ,  0.34857553],\n",
              "         [-0.04926456, -0.8503298 , -0.43293133, ...,  0.41493165,\n",
              "           0.9584873 ,  0.01559879],\n",
              "         [-0.40237346,  0.70202744,  0.9666729 , ..., -1.0784404 ,\n",
              "          -0.7469702 , -0.15905762],\n",
              "         ...,\n",
              "         [ 0.28959438,  1.4810206 ,  1.3388827 , ..., -0.0793074 ,\n",
              "           0.13561305,  0.46261165],\n",
              "         [ 0.17440188,  1.483059  ,  1.4353039 , ..., -0.45315465,\n",
              "          -0.41289935,  0.5607316 ],\n",
              "         [-0.02584378,  1.5523027 ,  0.95050955, ..., -0.81272644,\n",
              "          -0.8585678 ,  0.55939174]],\n",
              " \n",
              "        [[ 0.33806744,  1.4936713 ,  0.9985758 , ...,  0.28004667,\n",
              "          -0.14147986,  0.05405461],\n",
              "         [ 0.35787994, -0.26673484, -0.41495493, ...,  1.0300452 ,\n",
              "           0.10805317,  0.07494652],\n",
              "         [ 0.19466776,  0.40702388,  0.3079854 , ...,  1.4437957 ,\n",
              "          -2.1480088 ,  0.7815192 ],\n",
              "         ...,\n",
              "         [ 0.33653003,  1.2728202 ,  1.1508144 , ...,  0.07754739,\n",
              "           0.17705707,  0.34488147],\n",
              "         [ 0.21627551,  1.255584  ,  1.2194344 , ..., -0.27616346,\n",
              "          -0.34900302,  0.43583062],\n",
              "         [ 0.01421615,  1.3097333 ,  0.7808979 , ..., -0.58699983,\n",
              "          -0.76737434,  0.42897433]]], dtype=float32)>,\n",
              " <tf.Tensor: shape=(2, 128, 128), dtype=float32, numpy=\n",
              " array([[[ 0.44881803,  0.9328283 ,  0.5989224 , ...,  0.6708265 ,\n",
              "          -0.17006008,  0.44821182],\n",
              "         [ 0.16451596, -1.4857103 , -0.34107417, ...,  0.6260466 ,\n",
              "           1.2983055 ,  0.17574565],\n",
              "         [-0.36789215,  0.2556563 ,  1.0029308 , ..., -0.81718636,\n",
              "          -0.23833394, -0.12679456],\n",
              "         ...,\n",
              "         [ 0.41120327,  1.0415688 ,  1.2739875 , ..., -0.0521379 ,\n",
              "           0.269857  ,  0.5484838 ],\n",
              "         [ 0.298107  ,  1.0420331 ,  1.3125312 , ..., -0.3917532 ,\n",
              "          -0.25344688,  0.63511205],\n",
              "         [ 0.11058602,  1.0715805 ,  0.7989696 , ..., -0.67847145,\n",
              "          -0.638931  ,  0.6099941 ]],\n",
              " \n",
              "        [[ 0.5844498 ,  0.9614186 ,  0.70305717, ...,  0.82563484,\n",
              "           0.00207999, -0.01926342],\n",
              "         [ 0.33418003, -0.520582  ,  0.06326675, ...,  1.2411716 ,\n",
              "           0.43549246,  0.30029956],\n",
              "         [ 0.09376961,  0.6774232 ,  0.5126306 , ...,  1.9949367 ,\n",
              "          -1.7605628 ,  0.6459359 ],\n",
              "         ...,\n",
              "         [ 0.45337853,  0.88044775,  1.1778123 , ..., -0.07408343,\n",
              "           0.38679588,  0.4093662 ],\n",
              "         [ 0.33144617,  0.87935233,  1.1952956 , ..., -0.41834056,\n",
              "          -0.12622336,  0.49077237],\n",
              "         [ 0.13695647,  0.9130693 ,  0.708072  , ..., -0.68505764,\n",
              "          -0.4983895 ,  0.4607473 ]]], dtype=float32)>,\n",
              " <tf.Tensor: shape=(2, 128, 128), dtype=float32, numpy=\n",
              " array([[[ 4.1282052e-01,  1.0337130e+00,  7.8143054e-01, ...,\n",
              "           7.0830655e-01, -2.8814331e-01,  1.7286977e-01],\n",
              "         [-2.0872150e-03, -1.3999239e+00, -3.8732386e-01, ...,\n",
              "           7.7076882e-01,  1.6197144e+00, -8.3768673e-02],\n",
              "         [-2.4301967e-01,  1.9612624e-01,  8.1778765e-01, ...,\n",
              "          -5.3874886e-01, -6.5928347e-02, -3.5527071e-01],\n",
              "         ...,\n",
              "         [ 2.1155293e-01,  1.2897180e+00,  1.3608097e+00, ...,\n",
              "           3.5016295e-01,  4.4457561e-01,  3.1860620e-01],\n",
              "         [ 1.7148918e-01,  1.2086388e+00,  1.3303757e+00, ...,\n",
              "           2.5396783e-02, -1.7518744e-01,  4.7787499e-01],\n",
              "         [ 2.7875695e-01,  1.2181150e+00,  9.5177138e-01, ...,\n",
              "          -4.3816561e-01, -9.5456846e-02,  3.7405077e-01]],\n",
              " \n",
              "        [[ 5.9213632e-01,  1.1283280e+00,  8.2571667e-01, ...,\n",
              "           7.6593411e-01,  1.1840975e-01, -2.5170207e-01],\n",
              "         [ 7.1586210e-01, -2.5104675e-01,  3.5509501e-02, ...,\n",
              "           1.0596403e+00,  5.4031557e-01,  8.8351324e-02],\n",
              "         [-5.9768599e-01,  9.8074389e-01,  7.9799968e-01, ...,\n",
              "           2.2516575e+00, -1.5836813e+00,  6.8468100e-01],\n",
              "         ...,\n",
              "         [ 4.6431109e-01,  1.1653084e+00,  1.3269751e+00, ...,\n",
              "           2.7726266e-01,  4.8136488e-01,  2.3869416e-01],\n",
              "         [ 3.3728039e-01,  1.1332684e+00,  1.3837852e+00, ...,\n",
              "          -1.4623529e-01, -2.1218345e-02,  3.1945586e-01],\n",
              "         [ 1.1880099e-01,  1.1417544e+00,  9.6614546e-01, ...,\n",
              "          -5.6056666e-01, -2.1455394e-01,  1.9903365e-01]]], dtype=float32)>,\n",
              " <tf.Tensor: shape=(2, 128, 128), dtype=float32, numpy=\n",
              " array([[[ 0.45986554,  0.92115736,  1.0185143 , ...,  0.6091753 ,\n",
              "          -0.45224106,  0.25181708],\n",
              "         [-0.26155812, -1.696997  , -0.41647086, ...,  0.53244495,\n",
              "           1.415401  ,  0.2770895 ],\n",
              "         [-0.74256325,  0.05079064,  1.1130357 , ..., -0.45362565,\n",
              "           0.06738959, -0.366674  ],\n",
              "         ...,\n",
              "         [-0.02765799,  0.99357045,  1.3676269 , ...,  0.26851866,\n",
              "           0.08861642,  0.21836764],\n",
              "         [-0.06529647,  0.8970963 ,  1.3963633 , ..., -0.0039142 ,\n",
              "          -0.3620906 ,  0.31290326],\n",
              "         [ 0.01450422,  1.0232209 ,  0.7600367 , ..., -0.15192214,\n",
              "          -0.0686119 ,  0.26605582]],\n",
              " \n",
              "        [[ 0.7251476 ,  0.94085026,  0.64235634, ...,  0.5979435 ,\n",
              "           0.16229984, -0.34448206],\n",
              "         [ 0.22148344, -0.7364858 ,  0.2167807 , ...,  0.7800797 ,\n",
              "           1.031885  ,  0.23842414],\n",
              "         [-0.49227333,  1.1968256 ,  1.1278288 , ...,  2.1466663 ,\n",
              "          -0.653652  ,  0.34651685],\n",
              "         ...,\n",
              "         [ 0.17978078,  0.9019049 ,  1.3010643 , ...,  0.26251453,\n",
              "           0.57974637,  0.28962785],\n",
              "         [-0.05653547,  0.86204195,  1.5555261 , ..., -0.15948261,\n",
              "           0.28876525,  0.44689873],\n",
              "         [-0.0226348 ,  0.894514  ,  0.77631104, ..., -0.24859804,\n",
              "          -0.06259219,  0.14273666]]], dtype=float32)>,\n",
              " <tf.Tensor: shape=(2, 128, 128), dtype=float32, numpy=\n",
              " array([[[ 0.25220257,  0.7968676 ,  0.5913183 , ...,  0.01089003,\n",
              "          -0.01133288,  0.21975872],\n",
              "         [-0.996988  , -1.2747393 , -0.19016077, ...,  0.32039344,\n",
              "           1.9626724 ,  0.18825331],\n",
              "         [-0.7051638 , -0.17429379,  1.3460435 , ..., -0.6689949 ,\n",
              "          -0.07287294, -0.2347596 ],\n",
              "         ...,\n",
              "         [ 0.16660637,  0.95361024,  0.5585633 , ..., -0.19815184,\n",
              "           0.3980047 ,  1.1071568 ],\n",
              "         [ 0.15651494,  0.92405987,  0.6819996 , ..., -0.4181828 ,\n",
              "           0.03048198,  1.1309273 ],\n",
              "         [ 0.20054331,  0.92424464,  0.01247308, ..., -0.2791973 ,\n",
              "           0.17129135,  0.9013905 ]],\n",
              " \n",
              "        [[ 0.5330551 ,  0.7673508 ,  0.37918136, ...,  0.08189984,\n",
              "           0.40918863,  0.0298547 ],\n",
              "         [-0.5141247 , -0.42588046,  0.03671531, ...,  0.4799587 ,\n",
              "           0.51327074,  0.8220977 ],\n",
              "         [-1.0349845 ,  0.90232885,  0.9669973 , ...,  1.5812684 ,\n",
              "           0.02910471,  0.6513717 ],\n",
              "         ...,\n",
              "         [ 0.26205605,  0.6356023 ,  0.6429411 , ..., -0.06233101,\n",
              "           0.6654878 ,  0.99495316],\n",
              "         [ 0.00730724,  0.6558496 ,  0.9473575 , ..., -0.3299991 ,\n",
              "           0.37113434,  1.0548109 ],\n",
              "         [ 0.14717041,  0.5755126 ,  0.05344527, ..., -0.41013002,\n",
              "          -0.04318508,  0.9727142 ]]], dtype=float32)>,\n",
              " <tf.Tensor: shape=(2, 128, 128), dtype=float32, numpy=\n",
              " array([[[ 0.29679573,  1.1004654 ,  0.8255963 , ...,  0.2733576 ,\n",
              "           0.10007949,  0.18486863],\n",
              "         [-1.0423113 , -0.77878624, -0.05747183, ...,  0.595851  ,\n",
              "           1.6977113 ,  0.06998821],\n",
              "         [-0.810161  ,  0.09627435,  1.4862046 , ..., -0.67759687,\n",
              "           0.15823296, -0.24900624],\n",
              "         ...,\n",
              "         [ 0.07586352,  1.0759584 ,  0.91879576, ..., -0.22526306,\n",
              "           0.4975049 ,  0.98628664],\n",
              "         [ 0.06516054,  1.0312097 ,  1.0250285 , ..., -0.46174175,\n",
              "           0.2138662 ,  1.0332992 ],\n",
              "         [ 0.08502854,  1.0779186 ,  0.2995286 , ..., -0.31071413,\n",
              "           0.24454498,  0.95874846]],\n",
              " \n",
              "        [[ 0.68902063,  1.0929168 ,  0.7224563 , ...,  0.43113393,\n",
              "           0.51972777, -0.02144676],\n",
              "         [ 0.10105127, -0.06477965, -0.01117501, ...,  0.35741875,\n",
              "           0.75027376,  0.8759165 ],\n",
              "         [-0.8894784 ,  1.1848221 ,  0.7404679 , ...,  1.3755962 ,\n",
              "           0.11175328,  0.7586796 ],\n",
              "         ...,\n",
              "         [ 0.29885355,  0.6683564 ,  0.9259969 , ..., -0.16088617,\n",
              "           0.88714874,  1.0134406 ],\n",
              "         [ 0.09881887,  0.6849799 ,  1.1361293 , ..., -0.3804686 ,\n",
              "           0.5983876 ,  1.1559333 ],\n",
              "         [ 0.24608049,  0.6046535 ,  0.43612143, ..., -0.55525076,\n",
              "           0.1455423 ,  0.93283486]]], dtype=float32)>,\n",
              " <tf.Tensor: shape=(2, 128, 128), dtype=float32, numpy=\n",
              " array([[[ 0.509957  ,  1.0260463 ,  1.298002  , ...,  0.52584136,\n",
              "          -0.19785196, -0.21555808],\n",
              "         [-0.8868868 , -0.6146805 ,  0.37084764, ...,  0.952986  ,\n",
              "           1.456157  , -0.33597046],\n",
              "         [-0.70124453,  0.1810888 ,  1.9534929 , ..., -0.41432652,\n",
              "           0.15296763, -0.47868153],\n",
              "         ...,\n",
              "         [-0.05411145,  1.0362793 ,  1.5441053 , ..., -0.14927934,\n",
              "           0.40936294,  0.5112987 ],\n",
              "         [-0.06192828,  0.9998895 ,  1.597275  , ..., -0.3872144 ,\n",
              "           0.12948592,  0.5325533 ],\n",
              "         [-0.06410787,  0.9972694 ,  0.9580903 , ..., -0.19161528,\n",
              "           0.19452849,  0.5583949 ]],\n",
              " \n",
              "        [[ 1.0971632 ,  0.992304  ,  1.1264434 , ...,  0.59692496,\n",
              "           0.5196273 , -0.39868173],\n",
              "         [ 0.5715766 ,  0.5778553 ,  0.63978785, ...,  0.74768007,\n",
              "           0.6038412 ,  0.4191107 ],\n",
              "         [-0.81990963,  0.97843665,  0.93616027, ...,  1.9261503 ,\n",
              "          -0.07542571,  0.2016047 ],\n",
              "         ...,\n",
              "         [ 0.2061995 ,  0.6928376 ,  1.5098375 , ..., -0.29592857,\n",
              "           0.7437062 ,  0.59450287],\n",
              "         [-0.00544646,  0.77783275,  1.6483775 , ..., -0.39036876,\n",
              "           0.41119152,  0.73407483],\n",
              "         [ 0.12680373,  0.5976725 ,  1.015759  , ..., -0.6301958 ,\n",
              "           0.18486108,  0.67417026]]], dtype=float32)>,\n",
              " <tf.Tensor: shape=(2, 128, 128), dtype=float32, numpy=\n",
              " array([[[-2.5010061e-01,  6.2538946e-01,  1.6460221e+00, ...,\n",
              "           1.2799288e+00, -1.6682668e-01, -2.2829823e-01],\n",
              "         [-1.1235907e+00, -8.1793207e-01,  3.8127321e-01, ...,\n",
              "           1.5564997e+00,  1.2363948e+00, -2.7739465e-01],\n",
              "         [-1.3074750e+00, -2.6063615e-01,  1.5051280e+00, ...,\n",
              "           1.3184564e-01,  1.7667718e-01, -4.1672823e-01],\n",
              "         ...,\n",
              "         [-2.3766859e-01,  5.8498603e-01,  7.6011205e-01, ...,\n",
              "           1.8044731e-01,  7.6439792e-01,  2.4921894e-01],\n",
              "         [-2.9944208e-01,  5.3079379e-01,  8.3755362e-01, ...,\n",
              "          -4.1594442e-02,  5.0408024e-01,  3.6551052e-01],\n",
              "         [-3.2004949e-01,  6.1789536e-01,  3.0612543e-01, ...,\n",
              "           2.7973158e-02,  5.6527239e-01,  2.1248914e-01]],\n",
              " \n",
              "        [[ 8.2462144e-01,  8.3597130e-01,  8.6861706e-01, ...,\n",
              "           5.6793845e-01,  8.9088577e-01, -2.2193362e-01],\n",
              "         [-4.3414891e-02, -1.0212824e-02,  3.4325612e-01, ...,\n",
              "           7.5379980e-01,  5.2102560e-01,  7.1276939e-01],\n",
              "         [-1.1730777e+00,  5.9087425e-01,  4.4501299e-01, ...,\n",
              "           1.9331857e+00, -1.1777316e-01,  2.8396261e-01],\n",
              "         ...,\n",
              "         [ 1.0318278e-01,  3.0710077e-01,  4.9424642e-01, ...,\n",
              "          -6.8497159e-02,  1.0320106e+00,  8.5885316e-02],\n",
              "         [-1.6203535e-01,  3.6506754e-01,  6.5589166e-01, ...,\n",
              "          -2.3337874e-01,  7.7551740e-01,  2.8598422e-01],\n",
              "         [-2.0620227e-04,  2.7271071e-01,  5.9332207e-02, ...,\n",
              "          -4.9347627e-01,  3.3050385e-01,  3.8111454e-01]]], dtype=float32)>]"
            ]
          },
          "metadata": {},
          "execution_count": 23
        }
      ]
    },
    {
      "cell_type": "code",
      "source": [
        " bert_results['encoder_outputs'][-1] == bert_results['sequence_output']\n",
        "#  last layer is same as sequence"
      ],
      "metadata": {
        "colab": {
          "base_uri": "https://localhost:8080/"
        },
        "id": "fX1TivZxxf6D",
        "outputId": "cd10fe0d-d449-4103-d472-d64ddfea2817"
      },
      "execution_count": null,
      "outputs": [
        {
          "output_type": "execute_result",
          "data": {
            "text/plain": [
              "<tf.Tensor: shape=(2, 128, 128), dtype=bool, numpy=\n",
              "array([[[ True,  True,  True, ...,  True,  True,  True],\n",
              "        [ True,  True,  True, ...,  True,  True,  True],\n",
              "        [ True,  True,  True, ...,  True,  True,  True],\n",
              "        ...,\n",
              "        [ True,  True,  True, ...,  True,  True,  True],\n",
              "        [ True,  True,  True, ...,  True,  True,  True],\n",
              "        [ True,  True,  True, ...,  True,  True,  True]],\n",
              "\n",
              "       [[ True,  True,  True, ...,  True,  True,  True],\n",
              "        [ True,  True,  True, ...,  True,  True,  True],\n",
              "        [ True,  True,  True, ...,  True,  True,  True],\n",
              "        ...,\n",
              "        [ True,  True,  True, ...,  True,  True,  True],\n",
              "        [ True,  True,  True, ...,  True,  True,  True],\n",
              "        [ True,  True,  True, ...,  True,  True,  True]]])>"
            ]
          },
          "metadata": {},
          "execution_count": 25
        }
      ]
    }
  ]
}